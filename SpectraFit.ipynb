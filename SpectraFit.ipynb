{
 "cells": [
  {
   "cell_type": "code",
   "execution_count": 252,
   "metadata": {},
   "outputs": [],
   "source": [
    "import pandas as pd\n",
    "import numpy as np\n",
    "from math import exp\n",
    "from scipy.optimize import curve_fit\n",
    "from plotly.offline import download_plotlyjs,init_notebook_mode,plot,iplot\n",
    "import matplotlib.pyplot as plt"
   ]
  },
  {
   "cell_type": "markdown",
   "metadata": {},
   "source": [
    "### Define the function"
   ]
  },
  {
   "cell_type": "code",
   "execution_count": 253,
   "metadata": {},
   "outputs": [],
   "source": [
    "def mono_exp(X, a, b):\n",
    "    return a * np.exp(-(X/b))"
   ]
  },
  {
   "cell_type": "code",
   "execution_count": 254,
   "metadata": {},
   "outputs": [],
   "source": [
    "def multi_exp(X, a, b, c, d):\n",
    "    return (a * np.exp(-(X/b))) + (c * np.exp(-(X/d)))"
   ]
  },
  {
   "cell_type": "code",
   "execution_count": 255,
   "metadata": {},
   "outputs": [
    {
     "data": {
      "text/html": [
       "<div>\n",
       "<style scoped>\n",
       "    .dataframe tbody tr th:only-of-type {\n",
       "        vertical-align: middle;\n",
       "    }\n",
       "\n",
       "    .dataframe tbody tr th {\n",
       "        vertical-align: top;\n",
       "    }\n",
       "\n",
       "    .dataframe thead th {\n",
       "        text-align: right;\n",
       "    }\n",
       "</style>\n",
       "<table border=\"1\" class=\"dataframe\">\n",
       "  <thead>\n",
       "    <tr style=\"text-align: right;\">\n",
       "      <th></th>\n",
       "      <th>tau</th>\n",
       "      <th>I</th>\n",
       "    </tr>\n",
       "  </thead>\n",
       "  <tbody>\n",
       "    <tr>\n",
       "      <th>0</th>\n",
       "      <td>7.5</td>\n",
       "      <td>4.668953e+07</td>\n",
       "    </tr>\n",
       "    <tr>\n",
       "      <th>1</th>\n",
       "      <td>22.5</td>\n",
       "      <td>3.962107e+07</td>\n",
       "    </tr>\n",
       "    <tr>\n",
       "      <th>2</th>\n",
       "      <td>37.5</td>\n",
       "      <td>3.596703e+07</td>\n",
       "    </tr>\n",
       "    <tr>\n",
       "      <th>3</th>\n",
       "      <td>52.5</td>\n",
       "      <td>3.354784e+07</td>\n",
       "    </tr>\n",
       "    <tr>\n",
       "      <th>4</th>\n",
       "      <td>67.5</td>\n",
       "      <td>3.205289e+07</td>\n",
       "    </tr>\n",
       "  </tbody>\n",
       "</table>\n",
       "</div>"
      ],
      "text/plain": [
       "    tau             I\n",
       "0   7.5  4.668953e+07\n",
       "1  22.5  3.962107e+07\n",
       "2  37.5  3.596703e+07\n",
       "3  52.5  3.354784e+07\n",
       "4  67.5  3.205289e+07"
      ]
     },
     "execution_count": 255,
     "metadata": {},
     "output_type": "execute_result"
    }
   ],
   "source": [
    "df = pd.read_csv('Pressure1.csv', header=None)   #Do not forget to change the data! \n",
    "df.columns = ['tau', 'I']\n",
    "df.head()"
   ]
  },
  {
   "cell_type": "code",
   "execution_count": 256,
   "metadata": {},
   "outputs": [],
   "source": [
    "X = np.array(df.tau, dtype = 'float128')"
   ]
  },
  {
   "cell_type": "code",
   "execution_count": 257,
   "metadata": {},
   "outputs": [],
   "source": [
    "y = np.array(df.I, dtype = 'float128')"
   ]
  },
  {
   "cell_type": "code",
   "execution_count": 258,
   "metadata": {},
   "outputs": [],
   "source": [
    "popt, pcov = curve_fit(mono_exp, X[12:51], y[12:51], p0=(10000000, 350))"
   ]
  },
  {
   "cell_type": "code",
   "execution_count": 259,
   "metadata": {},
   "outputs": [
    {
     "name": "stdout",
     "output_type": "stream",
     "text": [
      "[3.31016853e+07 8.14067693e+02]\n"
     ]
    }
   ],
   "source": [
    "p1 = popt[0] # This is your a\n",
    "p2 = popt[1] # This is your b\n",
    "\n",
    "print(popt)"
   ]
  },
  {
   "cell_type": "code",
   "execution_count": 260,
   "metadata": {},
   "outputs": [],
   "source": [
    "residuals = y[12:51] - mono_exp(X[12:51],p1,p2)\n",
    "fres = sum( (residuals**2)/mono_exp(X[12:51],p1,p2))"
   ]
  },
  {
   "cell_type": "code",
   "execution_count": 261,
   "metadata": {},
   "outputs": [
    {
     "name": "stdout",
     "output_type": "stream",
     "text": [
      "8811413525.854378563\n"
     ]
    },
    {
     "data": {
      "image/png": "[encoded data removed]",
      "text/plain": [
       "<Figure size 432x288 with 1 Axes>"
      ]
     },
     "metadata": {
      "needs_background": "light"
     },
     "output_type": "display_data"
    }
   ],
   "source": [
    "print(fres)\n",
    "\n",
    "\"\"\" Now if you need to plot, perform the code below \"\"\"\n",
    "curvey = mono_exp(X[12:51],p1,p2) # This is your y axis fit-line\n",
    "\n",
    "plt.plot(np.log10(X[12:51]), np.log10(curvey), 'red', label='The best-fit line')\n",
    "plt.scatter(np.log10(X),np.log10(y), c='black',label='The data points')\n",
    "plt.legend(loc='best')\n",
    "plt.xlabel('log(tau (ns)')\n",
    "plt.ylabel('log(Intensity)')\n",
    "plt.title('Mono-exponential fit')\n",
    "plt.ylim(2, 8)\n",
    "plt.show()"
   ]
  },
  {
   "cell_type": "markdown",
   "metadata": {},
   "source": [
    "## Multiexponential "
   ]
  },
  {
   "cell_type": "code",
   "execution_count": 262,
   "metadata": {},
   "outputs": [],
   "source": [
    "popt1, pcov1 = curve_fit(multi_exp, X[12:51], y[12:51], p0=(25000000, 400, 15000000, 1600))"
   ]
  },
  {
   "cell_type": "code",
   "execution_count": 263,
   "metadata": {},
   "outputs": [
    {
     "name": "stdout",
     "output_type": "stream",
     "text": [
      "[2.52631885e+07 4.16507068e+02 1.30038625e+07 1.61479263e+03]\n"
     ]
    }
   ],
   "source": [
    "pa = popt1[0] # This is your a\n",
    "pb = popt1[1] # This is your b\n",
    "pc = popt1[2] # This is your b\n",
    "pd = popt1[3] # This is your b\n",
    "print(popt1)"
   ]
  },
  {
   "cell_type": "code",
   "execution_count": 264,
   "metadata": {},
   "outputs": [],
   "source": [
    "residuals1 = y[12:51] - multi_exp(X[12:51],pa,pb, pc, pd)\n",
    "fres1 = sum( (residuals1**2)/multi_exp(X[12:51],pa,pb, pc, pd))"
   ]
  },
  {
   "cell_type": "code",
   "execution_count": 268,
   "metadata": {},
   "outputs": [
    {
     "name": "stdout",
     "output_type": "stream",
     "text": [
      "1692388.1462985872779\n"
     ]
    },
    {
     "data": {
      "image/png": "[encoded data removed]",
      "text/plain": [
       "<Figure size 432x288 with 1 Axes>"
      ]
     },
     "metadata": {
      "needs_background": "light"
     },
     "output_type": "display_data"
    }
   ],
   "source": [
    "print(fres1)\n",
    "\n",
    "\"\"\" Now if you need to plot, perform the code below \"\"\"\n",
    "curvey1 = multi_exp(X[12:51], pa, pb, pc, pd) # This is your y axis fit-line\n",
    "\n",
    "plt.plot(np.log10(X[12:51]), np.log10(curvey1), 'red', label='The best-fit line')\n",
    "plt.scatter(np.log10(X),np.log10(y), c='black',label='The data points')\n",
    "plt.legend(loc='best')\n",
    "plt.xlabel('log(tau (ns)')\n",
    "plt.ylabel('log(Intensity)')\n",
    "plt.title('bi-exponential fit')\n",
    "plt.ylim(2, 8)\n",
    "plt.show()"
   ]
  },
  {
   "cell_type": "code",
   "execution_count": null,
   "metadata": {},
   "outputs": [],
   "source": []
  }
 ],
 "metadata": {
  "kernelspec": {
   "display_name": "Python 3",
   "language": "python",
   "name": "python3"
  },
  "language_info": {
   "codemirror_mode": {
    "name": "ipython",
    "version": 3
   },
   "file_extension": ".py",
   "mimetype": "text/x-python",
   "name": "python",
   "nbconvert_exporter": "python",
   "pygments_lexer": "ipython3",
   "version": "3.7.8"
  }
 },
 "nbformat": 4,
 "nbformat_minor": 4
}
